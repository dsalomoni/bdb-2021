{
 "cells": [
  {
   "cell_type": "code",
   "execution_count": 1,
   "metadata": {},
   "outputs": [
    {
     "name": "stdout",
     "output_type": "stream",
     "text": [
      "Collecting redis\n",
      "  Using cached redis-3.5.3-py2.py3-none-any.whl (72 kB)\n",
      "Installing collected packages: redis\n",
      "Successfully installed redis-3.5.3\n"
     ]
    }
   ],
   "source": [
    "! pip install redis"
   ]
  },
  {
   "cell_type": "code",
   "execution_count": 2,
   "metadata": {},
   "outputs": [
    {
     "name": "stdout",
     "output_type": "stream",
     "text": [
      "True\n"
     ]
    }
   ],
   "source": [
    "import redis\n",
    "r = redis.Redis(host=\"my_redis\")\n",
    "print(r.ping())"
   ]
  },
  {
   "cell_type": "code",
   "execution_count": 3,
   "metadata": {},
   "outputs": [
    {
     "data": {
      "text/plain": [
       "True"
      ]
     },
     "execution_count": 3,
     "metadata": {},
     "output_type": "execute_result"
    }
   ],
   "source": [
    "r.set('temperature', 18.5)"
   ]
  },
  {
   "cell_type": "code",
   "execution_count": 4,
   "metadata": {},
   "outputs": [
    {
     "data": {
      "text/plain": [
       "b'18.5'"
      ]
     },
     "execution_count": 4,
     "metadata": {},
     "output_type": "execute_result"
    }
   ],
   "source": [
    "r.get('temperature')"
   ]
  },
  {
   "cell_type": "code",
   "execution_count": 72,
   "metadata": {},
   "outputs": [
    {
     "name": "stdout",
     "output_type": "stream",
     "text": [
      "Temperature = b'18.5'\n",
      "now sleeping for 6 seconds...\n",
      "Temperature = None\n"
     ]
    }
   ],
   "source": [
    "import time\n",
    "r.flushall() # delete ALL keys in the DB\n",
    "TTL = 5\n",
    "r.set('temperature', 18.5)\n",
    "r.expire('temperature', TTL)  # the key will be deleted after TTL seconds\n",
    "print(\"Temperature =\", r.get('temperature'))\n",
    "print(\"now sleeping for %s seconds...\" % (TTL+1))\n",
    "time.sleep(TTL+1)\n",
    "print(\"Temperature =\", r.get('temperature'))"
   ]
  },
  {
   "cell_type": "code",
   "execution_count": 8,
   "metadata": {},
   "outputs": [
    {
     "name": "stdout",
     "output_type": "stream",
     "text": [
      "set: 20000 items in 9.40 seconds (2127.85 items/sec)\n",
      "get: 20000 items in 8.82 seconds (2267.18 items/sec)\n"
     ]
    }
   ],
   "source": [
    "import time\n",
    "r.flushall()  # delete ALL keys in the DB\n",
    "\n",
    "start = time.time()\n",
    "N = 20000\n",
    "for i in range(N):\n",
    "    key = \"key%s\" % i\n",
    "    value = \"value%s\" % i\n",
    "    r.set(key, value)\n",
    "delta = time.time() - start\n",
    "\n",
    "print(\"set: %d items in %.02f seconds\"% (N, delta), end=' ')\n",
    "print(\"(%.02f items/sec)\" % (N/delta))\n",
    "\n",
    "start = time.time()\n",
    "N = 20000\n",
    "for i in range(N):\n",
    "    key = \"key%s\" % i\n",
    "    value = r.get(key)\n",
    "delta = time.time() - start\n",
    "\n",
    "print(\"get: %d items in %.02f seconds\"% (N, delta), end=' ')\n",
    "print(\"(%.02f items/sec)\" % (N/delta))"
   ]
  },
  {
   "cell_type": "code",
   "execution_count": 11,
   "metadata": {},
   "outputs": [
    {
     "name": "stdout",
     "output_type": "stream",
     "text": [
      "set: 20000 items in 0.91 seconds (22076.32 items/sec)\n",
      "get: 20000 items in 0.68 seconds (29526.88 items/sec)\n"
     ]
    }
   ],
   "source": [
    "import time\n",
    "r.flushall()  # delete ALL keys in the DB\n",
    "\n",
    "start = time.time()\n",
    "pipe = r.pipeline()\n",
    "N = 20000\n",
    "for i in range(N):\n",
    "    key = \"key%s\" % i\n",
    "    value = \"value%s\" % i\n",
    "    pipe.set(key, value)\n",
    "pipe.execute()\n",
    "delta = time.time() - start\n",
    "\n",
    "print(\"set: %d items in %.02f seconds\"% (N, delta), end=' ')\n",
    "print(\"(%.02f items/sec)\" % (N/delta))\n",
    "\n",
    "start = time.time()\n",
    "pipe = r.pipeline()\n",
    "N = 20000\n",
    "for i in range(N):\n",
    "    key = \"key%s\" % i\n",
    "    value = pipe.get(key)\n",
    "pipe.execute()\n",
    "delta = time.time() - start\n",
    "\n",
    "print(\"get: %d items in %.02f seconds\"% (N, delta), end=' ')\n",
    "print(\"(%.02f items/sec)\" % (N/delta))"
   ]
  },
  {
   "cell_type": "code",
   "execution_count": 67,
   "metadata": {},
   "outputs": [
    {
     "name": "stdout",
     "output_type": "stream",
     "text": [
      "SQLite set: 20000 items in 0.42 seconds (47515.79 items/sec)\n",
      "SQLite get: 20000 items in 0.20 seconds (102349.03 items/sec)\n"
     ]
    }
   ],
   "source": [
    "import sqlite3 as sql\n",
    "conn = sql.connect('test_perf.sqlite')\n",
    "cur = conn.cursor()\n",
    "cur.execute('''DROP TABLE IF EXISTS Performance;''')\n",
    "cur.execute('''CREATE TABLE Performance(\n",
    "                key TEXT NOT NULL UNIQUE,\n",
    "                value TEXT NOT NULL);\n",
    "            ''')\n",
    "conn.commit()\n",
    "conn.close()\n",
    "\n",
    "start = time.time()\n",
    "conn = sql.connect('test_perf.sqlite')\n",
    "cur = conn.cursor()\n",
    "N = 20000\n",
    "for i in range(N):\n",
    "    key = \"key%s\" % i\n",
    "    value = \"value%s\" % i\n",
    "    cur.execute('''INSERT INTO Performance VALUES(?, ?)''', (key,value))\n",
    "conn.commit()\n",
    "conn.close()\n",
    "delta = time.time() - start\n",
    "\n",
    "print(\"SQLite set: %d items in %.02f seconds\"% (N, delta), end=' ')\n",
    "print(\"(%.02f items/sec)\" % (N/delta))\n",
    "\n",
    "start = time.time()\n",
    "conn = sql.connect('test_perf.sqlite')\n",
    "cur = conn.cursor()\n",
    "cur.execute('''SELECT * from Performance''')\n",
    "results = cur.fetchall()\n",
    "for res in results:\n",
    "    (key, value) = res\n",
    "conn.close()\n",
    "delta = time.time() - start\n",
    "\n",
    "print(\"SQLite get: %d items in %.02f seconds\"% (N, delta), end=' ')\n",
    "print(\"(%.02f items/sec)\" % (N/delta))"
   ]
  },
  {
   "cell_type": "code",
   "execution_count": 60,
   "metadata": {},
   "outputs": [
    {
     "name": "stdout",
     "output_type": "stream",
     "text": [
      "mset: 20000 items in 0.23 seconds (87975.07 items/sec)\n",
      "mget: 20000 items in 0.16 seconds (129017.99 items/sec)\n"
     ]
    }
   ],
   "source": [
    "import time\n",
    "r.flushall()  # delete ALL keys in the DB\n",
    "\n",
    "start = time.time()\n",
    "N = 20000\n",
    "my_dict = {\"key%s\" % i: \"value%s\" % i for i in range(N)}\n",
    "r.mset(my_dict)\n",
    "delta = time.time() - start\n",
    "\n",
    "print(\"mset: %d items in %.02f seconds\"% (N, delta), end=' ')\n",
    "print(\"(%.02f items/sec)\" % (N/delta))\n",
    "\n",
    "start = time.time()\n",
    "N = 20000\n",
    "keys = [\"key%s\" % i for i in range(N)]\n",
    "values = r.mget(keys)\n",
    "results = list(zip(keys, values))\n",
    "delta = time.time() - start\n",
    "\n",
    "print(\"mget: %d items in %.02f seconds\"% (N, delta), end=' ')\n",
    "print(\"(%.02f items/sec)\" % (N/delta))"
   ]
  },
  {
   "cell_type": "code",
   "execution_count": 82,
   "metadata": {},
   "outputs": [
    {
     "name": "stdout",
     "output_type": "stream",
     "text": [
      "First get:  {'type': 'subscribe', 'pattern': None, 'channel': b'bdb', 'data': 1}\n",
      "Second get:  None\n"
     ]
    }
   ],
   "source": [
    "# a subscriber subscribes to the \"bdb\" channel...\n",
    "a_subscriber = redis.Redis(host=\"my_redis\")\n",
    "sub = a_subscriber.pubsub()\n",
    "sub.subscribe('bdb')\n",
    "\n",
    "# ... and then gets messages over that channel\n",
    "print(\"First get: \", sub.get_message())\n",
    "print(\"Second get: \", sub.get_message())"
   ]
  },
  {
   "cell_type": "code",
   "execution_count": 83,
   "metadata": {},
   "outputs": [
    {
     "name": "stdout",
     "output_type": "stream",
     "text": [
      "Third get:  {'type': 'message', 'pattern': None, 'channel': b'bdb', 'data': b'pubsub test'}\n"
     ]
    }
   ],
   "source": [
    "# a publisher publishes something on the \"bdb\" channel\n",
    "a_publisher = redis.Redis(host=\"my_redis\")\n",
    "a_publisher.publish('bdb', 'pubsub test')\n",
    "\n",
    "# the subscriber gets another messsage... this time it can read it\n",
    "print(\"Third get: \", sub.get_message())"
   ]
  },
  {
   "cell_type": "code",
   "execution_count": null,
   "metadata": {},
   "outputs": [],
   "source": []
  }
 ],
 "metadata": {
  "kernelspec": {
   "display_name": "Python 3",
   "language": "python",
   "name": "python3"
  },
  "language_info": {
   "codemirror_mode": {
    "name": "ipython",
    "version": 3
   },
   "file_extension": ".py",
   "mimetype": "text/x-python",
   "name": "python",
   "nbconvert_exporter": "python",
   "pygments_lexer": "ipython3",
   "version": "3.8.6"
  }
 },
 "nbformat": 4,
 "nbformat_minor": 4
}
